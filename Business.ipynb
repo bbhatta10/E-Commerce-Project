{
 "cells": [
  {
   "cell_type": "markdown",
   "id": "8150256c",
   "metadata": {},
   "source": [
    "### Business Intellegence Data"
   ]
  },
  {
   "cell_type": "code",
   "execution_count": 1,
   "id": "f22b51e6",
   "metadata": {},
   "outputs": [],
   "source": [
    "import pandas as pd \n",
    "\n"
   ]
  }
 ],
 "metadata": {
  "kernelspec": {
   "display_name": "Python (data_analysis)",
   "language": "python",
   "name": "data_analysis"
  },
  "language_info": {
   "codemirror_mode": {
    "name": "ipython",
    "version": 3
   },
   "file_extension": ".py",
   "mimetype": "text/x-python",
   "name": "python",
   "nbconvert_exporter": "python",
   "pygments_lexer": "ipython3",
   "version": "3.13.5"
  }
 },
 "nbformat": 4,
 "nbformat_minor": 5
}
