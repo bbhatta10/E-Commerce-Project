{
 "cells": [
  {
   "cell_type": "markdown",
   "id": "9f1b54a0",
   "metadata": {},
   "source": [
    "## E-Commerce Project : \n",
    "### This project is all about helping **VS Group**, a U.S.-based e-commerce company, grow smarter.  \n",
    "\n"
   ]
  },
  {
   "cell_type": "markdown",
   "id": "ca4a922d",
   "metadata": {},
   "source": [
    "####          Importing libraries, read csv file, and data preprocessing and cleaning"
   ]
  },
  {
   "cell_type": "code",
   "execution_count": 2,
   "id": "e7ac08a1",
   "metadata": {},
   "outputs": [],
   "source": [
    "import pandas as pd\n",
    "import numpy as num\n",
    "import seaborn as sns \n",
    "import matplotlib.pyplot as plt \n",
    "\n",
    "\n",
    "\n"
   ]
  }
 ],
 "metadata": {
  "kernelspec": {
   "display_name": "Python (data_analysis)",
   "language": "python",
   "name": "data_analysis"
  },
  "language_info": {
   "codemirror_mode": {
    "name": "ipython",
    "version": 3
   },
   "file_extension": ".py",
   "mimetype": "text/x-python",
   "name": "python",
   "nbconvert_exporter": "python",
   "pygments_lexer": "ipython3",
   "version": "3.13.5"
  }
 },
 "nbformat": 4,
 "nbformat_minor": 5
}
